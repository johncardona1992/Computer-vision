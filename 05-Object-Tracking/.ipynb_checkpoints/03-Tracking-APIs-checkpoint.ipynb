{
 "cells": [
  {
   "cell_type": "markdown",
   "metadata": {},
   "source": [
    "<a href=\"https://www.pieriandata.com\"><img src=\"../DATA/Logo.jpg\"></a>\n",
    "*Copyright Pierian Data Inc.*"
   ]
  },
  {
   "cell_type": "code",
   "execution_count": 3,
   "metadata": {},
   "outputs": [],
   "source": [
    "\n",
    "\n",
    "for name, tracker in (('KCF', cv2.TrackerKCF_create), \n",
    "                      ('MIL', cv2.TrackerMIL_create), \n",
    "                      ('TLD', cv2.TrackerTLD_create)):\n",
    "    tracker = tracker()\n",
    "    initialized = False"
   ]
  },
  {
   "cell_type": "code",
   "execution_count": 3,
   "metadata": {},
   "outputs": [],
   "source": [
    "# import numpy as np\n",
    "# import cv2\n",
    "\n",
    "# # cap = cv2.VideoCapture(0)\n",
    "\n",
    "# # while(True):\n",
    "# #     # Capture frame-by-frame\n",
    "# #     ret, frame = cap.read()\n",
    "\n",
    "# #     # Our operations on the frame come here\n",
    "# #     gray = cv2.cvtColor(frame, cv2.COLOR_BGR2GRAY)\n",
    "\n",
    "# #     # Display the resulting frame\n",
    "# #     cv2.imshow('frame',gray)\n",
    "# #     if cv2.waitKey(1) & 0xFF == ord('q'):\n",
    "# #         break\n",
    "\n",
    "# # When everything done, release the capture\n",
    "# cap.release()\n",
    "# cv2.destroyAllWindows()"
   ]
  },
  {
   "cell_type": "code",
   "execution_count": null,
   "metadata": {},
   "outputs": [],
   "source": [
    "import time\n",
    "video = cv2.VideoCapture(0)\n",
    "while True:\n",
    "        t0 = time.time()\n",
    "        ok, frame = video.read()\n",
    "        if not ok: \n",
    "            break\n",
    "\n",
    "        if initialized:\n",
    "            tracked, bbox = tracker.update(frame)\n",
    "        else:\n",
    "            cv2.imwrite('/tmp/frame.png', frame)\n",
    "            bbox = (878, 266, 1153-878, 475-266)\n",
    "            tracked = tracker.init(frame, bbox)\n",
    "            initialized = True\n",
    "\n",
    "        fps = 1 / (time.time() - t0)\n",
    "        cv2.putText(frame, 'tracker: {}, fps: {:.1f}'.format(name, fps),\n",
    "                    (10, 50), cv2.FONT_HERSHEY_SIMPLEX, 1, (255, 0, 0), 2) \n",
    "        if tracked:\n",
    "            bbox = tuple(map(int, bbox))\n",
    "            cv2.rectangle(frame, (bbox[0], bbox[1]), \n",
    "                          (bbox[0]+bbox[2], bbox[1]+bbox[3]), \n",
    "                          (0, 255, 0), 3)\n",
    "        cv2.imshow('frame', frame)\n",
    "        if cv2.waitKey(3) == 27:\n",
    "            break"
   ]
  },
  {
   "cell_type": "code",
   "execution_count": null,
   "metadata": {},
   "outputs": [],
   "source": []
  }
 ],
 "metadata": {
  "kernelspec": {
   "display_name": "Python 3",
   "language": "python",
   "name": "python3"
  },
  "language_info": {
   "codemirror_mode": {
    "name": "ipython",
    "version": 3
   },
   "file_extension": ".py",
   "mimetype": "text/x-python",
   "name": "python",
   "nbconvert_exporter": "python",
   "pygments_lexer": "ipython3",
   "version": "3.6.6"
  }
 },
 "nbformat": 4,
 "nbformat_minor": 2
}
